{
 "cells": [
  {
   "cell_type": "code",
   "execution_count": 1,
   "id": "8937a1ac-f54e-4310-a7fa-dd0b709267f1",
   "metadata": {},
   "outputs": [
    {
     "data": {
      "text/plain": [
       "0.6666666865348816"
      ]
     },
     "execution_count": 1,
     "metadata": {},
     "output_type": "execute_result"
    }
   ],
   "source": [
    "# Probability method\n",
    "\n",
    "import math\n",
    "from math import comb\n",
    "\n",
    "P = 0\n",
    "for k in range (12,25):\n",
    "    p_k = comb(k, 24-k)*(0.5**k)\n",
    "    P += p_k    \n",
    "\n",
    "P"
   ]
  },
  {
   "cell_type": "code",
   "execution_count": 2,
   "id": "4bb386a5-8330-4a0f-8a6d-51235d4c20df",
   "metadata": {},
   "outputs": [
    {
     "data": {
      "text/latex": [
       "$\\displaystyle - 0.666666666666667 \\left(-0.5\\right)^{n} + 0.666666666666667 \\cdot 1.0^{n}$"
      ],
      "text/plain": [
       "-0.666666666666667*(-0.5)**n + 0.666666666666667*1.0**n"
      ]
     },
     "execution_count": 2,
     "metadata": {},
     "output_type": "execute_result"
    }
   ],
   "source": [
    "# Symbolic method (2 sided)\n",
    "\n",
    "import sympy as sp\n",
    "from sympy.abc import m, x, y, z, k, n\n",
    "\n",
    "M = sp.solve(m**2-0.5*m-0.5, m)\n",
    "x, y = sp.symbols(\"x,y\")\n",
    "A = sp.Matrix([[M[0], M[1]], [M[0]**2, M[1]**2]])\n",
    "b = sp.Matrix([1, 0.5])\n",
    "C, = sp.linsolve((A, b), x, y)\n",
    "\n",
    "def an(k):\n",
    "    return sum(C[i]*M[i]**k for i in range(2))\n",
    "\n",
    "an(n)"
   ]
  },
  {
   "cell_type": "code",
   "execution_count": 3,
   "id": "2be0893a-f8e9-4413-a082-2df1342320cf",
   "metadata": {},
   "outputs": [
    {
     "data": {
      "text/latex": [
       "$\\displaystyle 0.666666686534882$"
      ],
      "text/plain": [
       "0.666666686534882"
      ]
     },
     "execution_count": 3,
     "metadata": {},
     "output_type": "execute_result"
    }
   ],
   "source": [
    "an(25)"
   ]
  },
  {
   "cell_type": "code",
   "execution_count": 4,
   "id": "4950b5b1-71c5-49b8-b5a7-8b24d8a9b1a0",
   "metadata": {},
   "outputs": [
    {
     "data": {
      "text/plain": [
       "(0.6666666865348816+0j)"
      ]
     },
     "execution_count": 4,
     "metadata": {},
     "output_type": "execute_result"
    }
   ],
   "source": [
    "# Numerical method (2 sided)\n",
    "\n",
    "import numpy as np\n",
    "from scipy import linalg as LA\n",
    "\n",
    "n=25\n",
    "\n",
    "A= np.array([[0.5, 0.5],[1,0]])\n",
    "\n",
    "lam, P = LA.eig(A)\n",
    "Diag = np.diag(lam**(n-1))\n",
    "Pinv = LA.inv(P)\n",
    "Init = np.array([0.5,1])\n",
    "\n",
    "M = P@Diag@Pinv@Init\n",
    "M[1]"
   ]
  },
  {
   "cell_type": "code",
   "execution_count": 5,
   "id": "259104fe-f1d2-4afc-ae92-958271432e67",
   "metadata": {},
   "outputs": [
    {
     "data": {
      "image/png": "[encoded data removed]",
      "text/plain": [
       "<Figure size 432x288 with 1 Axes>"
      ]
     },
     "metadata": {
      "needs_background": "light"
     },
     "output_type": "display_data"
    },
    {
     "name": "stdout",
     "output_type": "stream",
     "text": [
      "0.6666666865348816\n",
      "0.6666666666666667\n"
     ]
    }
   ],
   "source": [
    "# Plot recurrence relation (2 sided)\n",
    "\n",
    "import numpy as np\n",
    "import matplotlib.pyplot as plt\n",
    "%matplotlib inline\n",
    "\n",
    "A = np.array([1,0.5])\n",
    "for i in np.arange(2,101):\n",
    "    a = 0.5*A[i-1]+0.5*A[i-2]\n",
    "    A = np.append(A,a)\n",
    "\n",
    "plt.semilogy(A)\n",
    "plt.xlabel('n')\n",
    "plt.ylabel('p_n')\n",
    "plt.title('Probability of Landing on n (2 sided coin)')\n",
    "plt.grid('on')\n",
    "plt.show()\n",
    "\n",
    "print(A[24])  # p_25\n",
    "print(A[100])"
   ]
  },
  {
   "cell_type": "code",
   "execution_count": 6,
   "id": "cbdfd471-212b-4af9-9e2a-91a95a63b5c6",
   "metadata": {},
   "outputs": [
    {
     "data": {
      "text/latex": [
       "$\\displaystyle 0.313119152175872 \\cdot 1.23375192852826^{k} + \\left(-0.378781798310158 + 0.322682052510919 i\\right) \\left(-0.366875964264129 - 0.520259438865201 i\\right)^{k} + \\left(-0.378781798310158 - 0.322682052510919 i\\right) \\left(-0.366875964264129 + 0.520259438865201 i\\right)^{k}$"
      ],
      "text/plain": [
       "0.313119152175872*1.23375192852826**k + (-0.378781798310158 + 0.322682052510919*I)*(-0.366875964264129 - 0.520259438865201*I)**k + (-0.378781798310158 - 0.322682052510919*I)*(-0.366875964264129 + 0.520259438865201*I)**k"
      ]
     },
     "execution_count": 6,
     "metadata": {},
     "output_type": "execute_result"
    }
   ],
   "source": [
    "# Symbolic method (3 sided)\n",
    "\n",
    "import sympy as sp\n",
    "from sympy.abc import m, x, y, z, k, n\n",
    "\n",
    "M = sp.solve(m**3-0.5*m**2-0.5*m-0.5, m)\n",
    "x, y = sp.symbols(\"x,y\")\n",
    "A = sp.Matrix([[M[0], M[1], M[2]], [M[0]**2, M[1]**2, M[2]**2], [M[0]**3, M[1]**3, M[2]**3]])\n",
    "b = sp.Matrix([1, 1/3, 4/9])\n",
    "C, = sp.linsolve((A, b), x, y, z)\n",
    "\n",
    "def an(n):\n",
    "    return sum(C[i]*M[i]**n for i in range(3))\n",
    "\n",
    "an(k)"
   ]
  },
  {
   "cell_type": "code",
   "execution_count": 7,
   "id": "a546220a-9db4-4159-a0d3-d58cdd9c5c40",
   "metadata": {},
   "outputs": [
    {
     "data": {
      "image/png": "[encoded data removed]",
      "text/plain": [
       "<Figure size 432x288 with 1 Axes>"
      ]
     },
     "metadata": {
      "needs_background": "light"
     },
     "output_type": "display_data"
    },
    {
     "name": "stdout",
     "output_type": "stream",
     "text": [
      "0.4999994424113636\n",
      "0.4999999999999987\n"
     ]
    }
   ],
   "source": [
    "# Plot recurrence relation (3 sided)\n",
    "\n",
    "import numpy as np\n",
    "import matplotlib.pyplot as plt\n",
    "%matplotlib inline\n",
    "\n",
    "A = np.array([1,1/3,4/9])\n",
    "for i in np.arange(3,101):\n",
    "    a = (1/3)*A[i-1]+(1/3)*A[i-2]+(1/3)*A[i-3]\n",
    "    A = np.append(A,a)\n",
    "\n",
    "plt.semilogy(A)\n",
    "plt.xlabel('n')\n",
    "plt.ylabel('p_n')\n",
    "plt.title('Probability of Landing on n (3 sided dice)')\n",
    "plt.grid('on')\n",
    "plt.show()\n",
    "\n",
    "print(A[24])\n",
    "print(A[100])"
   ]
  },
  {
   "cell_type": "code",
   "execution_count": 8,
   "id": "af5a4f40-42b0-48ec-900f-2bd0337035fb",
   "metadata": {},
   "outputs": [
    {
     "data": {
      "image/png": "[encoded data removed]",
      "text/plain": [
       "<Figure size 432x288 with 1 Axes>"
      ]
     },
     "metadata": {
      "needs_background": "light"
     },
     "output_type": "display_data"
    },
    {
     "name": "stdout",
     "output_type": "stream",
     "text": [
      "0.39999238267585113\n",
      "0.4\n"
     ]
    }
   ],
   "source": [
    "# Plot recurrence relation (4 sided)\n",
    "\n",
    "import numpy as np\n",
    "import matplotlib.pyplot as plt\n",
    "%matplotlib inline\n",
    "\n",
    "A = np.array([1,1/4,5/16, 25/64])\n",
    "for i in np.arange(4,101):\n",
    "    a = (1/4)*A[i-1]+(1/4)*A[i-2]+(1/4)*A[i-3]+(1/4)*A[i-4]\n",
    "    A = np.append(A,a)\n",
    "\n",
    "plt.semilogy(A)\n",
    "plt.xlabel('n')\n",
    "plt.ylabel('p_n')\n",
    "plt.title('Probability of Landing on n (4 sided dice)')\n",
    "plt.grid('on')\n",
    "plt.show()\n",
    "\n",
    "print(A[24])\n",
    "print(A[100])"
   ]
  },
  {
   "cell_type": "code",
   "execution_count": 9,
   "id": "78be415c-1c7a-4a72-b8ab-bee1f72ef154",
   "metadata": {},
   "outputs": [
    {
     "data": {
      "image/png": "[encoded data removed]",
      "text/plain": [
       "<Figure size 432x288 with 1 Axes>"
      ]
     },
     "metadata": {
      "needs_background": "light"
     },
     "output_type": "display_data"
    },
    {
     "name": "stdout",
     "output_type": "stream",
     "text": [
      "0.33333848737651905\n",
      "0.33333333333333387\n"
     ]
    }
   ],
   "source": [
    "# Plot recurrence relation (5 sided)\n",
    "\n",
    "import numpy as np\n",
    "import matplotlib.pyplot as plt\n",
    "%matplotlib inline\n",
    "\n",
    "A = np.array([1,1/5,6/25,36/125,216/625])\n",
    "for i in np.arange(5,101):\n",
    "    a = (1/5)*A[i-1]+(1/5)*A[i-2]+(1/5)*A[i-3]+(1/5)*A[i-4]+(1/5)*A[i-5]\n",
    "    A = np.append(A,a)\n",
    "\n",
    "plt.semilogy(A)\n",
    "plt.xlabel('n')\n",
    "plt.ylabel('p_n')\n",
    "plt.title('Probability of Landing on n (5 sided dice)')\n",
    "plt.grid('on')\n",
    "plt.show()\n",
    "\n",
    "print(A[24])\n",
    "print(A[100])"
   ]
  }
 ],
 "metadata": {
  "kernelspec": {
   "display_name": "Python 3 (ipykernel)",
   "language": "python",
   "name": "python3"
  },
  "language_info": {
   "codemirror_mode": {
    "name": "ipython",
    "version": 3
   },
   "file_extension": ".py",
   "mimetype": "text/x-python",
   "name": "python",
   "nbconvert_exporter": "python",
   "pygments_lexer": "ipython3",
   "version": "3.9.7"
  }
 },
 "nbformat": 4,
 "nbformat_minor": 5
}
