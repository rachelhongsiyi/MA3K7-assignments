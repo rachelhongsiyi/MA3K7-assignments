{
 "cells": [
  {
   "cell_type": "code",
   "execution_count": 1,
   "id": "6bff9654-b90e-4539-85c5-d6319dba3400",
   "metadata": {},
   "outputs": [
    {
     "name": "stdout",
     "output_type": "stream",
     "text": [
      "37 36 35 34 33 32 31\n",
      "38 17 16 15 14 13 30\n",
      "39 18 05 04 03 12 29\n",
      "40 19 06 01 02 11 28\n",
      "41 20 07 08 09 10 27\n",
      "42 21 22 23 24 25 26\n",
      "43 44 45 46 47 48 49\n"
     ]
    }
   ],
   "source": [
    "# Number Spiral with step size = 1, initial number = 1\n",
    "\n",
    "def number_spiral(n):                              # n is an odd natural number\n",
    "    square = [[0] * n for i in range(n)]           # Initialise the square with zeros\n",
    "    num_now = n * n                                  \n",
    "    direction = [(0, -1), (-1, 0), (0, 1), (1, 0)]          # Starting from the nxn cell; direction: left -> up -> right -> down\n",
    "    direction_index = 0\n",
    "    row = n-1\n",
    "    col = n-1\n",
    "\n",
    "    for i in range(n * n):\n",
    "        square[row][col] = num_now                      # Start from the last cell\n",
    "        num_now -= 1                                    # The number to be filled in decreases by 1 every single step\n",
    "\n",
    "        row_new = row + direction[direction_index][0]         # The row of the next number\n",
    "        col_new = col + direction[direction_index][1]         # The column of the next number\n",
    "\n",
    "        if 0 <= row_new < n and 0 <= col_new < n and square[row_new][col_new] == 0:\n",
    "            row = row_new                   # Check if the next cell is within bounds and not filled (still 0) yet\n",
    "            col = col_new\n",
    "        \n",
    "        else:\n",
    "            direction_index = (direction_index + 1) % 4\n",
    "            \n",
    "            row += direction[direction_index][0]\n",
    "            col += direction[direction_index][1]\n",
    "\n",
    "    for row in square:\n",
    "        print(\" \".join(str(num_now).zfill(2) for num_now in row))       # .zfill(d) means d significant figures\n",
    "\n",
    "\n",
    "n = 7\n",
    "number_spiral(n)"
   ]
  },
  {
   "cell_type": "code",
   "execution_count": 2,
   "id": "8d3f003b-ced2-4433-9a69-1e8fa8802bb1",
   "metadata": {},
   "outputs": [
    {
     "name": "stdout",
     "output_type": "stream",
     "text": [
      "73 71 69 67 65 63 61\n",
      "75 33 31 29 27 25 59\n",
      "77 35 09 07 05 23 57\n",
      "79 37 11 01 03 21 55\n",
      "81 39 13 15 17 19 53\n",
      "83 41 43 45 47 49 51\n",
      "85 87 89 91 93 95 97\n"
     ]
    }
   ],
   "source": [
    "# Number Spiral with step size = 2, initial number = 1\n",
    "\n",
    "def number_spiral(n):                            \n",
    "    square = [[0] * n for i in range(n)]\n",
    "    \n",
    "    num_now = 2 * n * n - 1                          # the formula for the endpoint\n",
    "    \n",
    "    direction = [(0, -1), (-1, 0), (0, 1), (1, 0)]      \n",
    "    direction_index = 0\n",
    "    row = n-1\n",
    "    col = n-1\n",
    "\n",
    "    for i in range(n * n):\n",
    "        square[row][col] = num_now                   \n",
    "        num_now -= 2                                  # step size = 2\n",
    "\n",
    "        row_new = row + direction[direction_index][0] \n",
    "        col_new = col + direction[direction_index][1]     \n",
    "\n",
    "        if 0 <= row_new < n and 0 <= col_new < n and square[row_new][col_new] == 0:\n",
    "            row = row_new       \n",
    "            col = col_new\n",
    "        \n",
    "        else:\n",
    "            direction_index = (direction_index + 1) % 4\n",
    "            \n",
    "            row += direction[direction_index][0]\n",
    "            col += direction[direction_index][1]\n",
    "\n",
    "    for row in square:\n",
    "        print(\" \".join(str(num_now).zfill(2) for num_now in row))  \n",
    "\n",
    "\n",
    "n = 7\n",
    "number_spiral(n)"
   ]
  },
  {
   "cell_type": "code",
   "execution_count": 3,
   "id": "3e719a2b-aa1b-4af6-a1c8-ace8aa1f4cac",
   "metadata": {},
   "outputs": [
    {
     "name": "stdout",
     "output_type": "stream",
     "text": [
      "46 45 44 43 42 41 40\n",
      "47 26 25 24 23 22 39\n",
      "48 27 14 13 12 21 38\n",
      "49 28 15 10 11 20 37\n",
      "50 29 16 17 18 19 36\n",
      "51 30 31 32 33 34 35\n",
      "52 53 54 55 56 57 58\n"
     ]
    }
   ],
   "source": [
    "# Number Spiral with step size = 1, initial number = 10\n",
    "\n",
    "def number_spiral(n):                            \n",
    "    square = [[0] * n for i in range(n)]\n",
    "    \n",
    "    num_now = n * n + 9\n",
    "    \n",
    "    direction = [(0, -1), (-1, 0), (0, 1), (1, 0)]      \n",
    "    direction_index = 0\n",
    "    row = n-1\n",
    "    col = n-1\n",
    "\n",
    "    for i in range(n * n):\n",
    "        square[row][col] = num_now                   \n",
    "        num_now -= 1\n",
    "\n",
    "        row_new = row + direction[direction_index][0] \n",
    "        col_new = col + direction[direction_index][1]     \n",
    "\n",
    "        if 0 <= row_new < n and 0 <= col_new < n and square[row_new][col_new] == 0:\n",
    "            row = row_new       \n",
    "            col = col_new\n",
    "        \n",
    "        else:\n",
    "            direction_index = (direction_index + 1) % 4\n",
    "            \n",
    "            row += direction[direction_index][0]\n",
    "            col += direction[direction_index][1]\n",
    "\n",
    "    for row in square:\n",
    "        print(\" \".join(str(num_now).zfill(2) for num_now in row))  \n",
    "\n",
    "\n",
    "n = 7\n",
    "number_spiral(n)"
   ]
  },
  {
   "cell_type": "code",
   "execution_count": 4,
   "id": "fa9528c3-3c74-458e-bf37-67eebc5f3e9a",
   "metadata": {},
   "outputs": [
    {
     "name": "stdout",
     "output_type": "stream",
     "text": [
      "49 48 47 46 45 44 43\n",
      "26 25 24 23 22 21 42\n",
      "27 10 09 08 07 20 41\n",
      "28 11 02 01 06 19 40\n",
      "29 12 03 04 05 18 39\n",
      "30 13 14 15 16 17 38\n",
      "31 32 33 34 35 36 37\n"
     ]
    }
   ],
   "source": [
    "# Number Spiral rotated in a new direction\n",
    "\n",
    "def number_spiral(n):                            \n",
    "    square = [[0] * n for i in range(n)]\n",
    "    num_now = n * n\n",
    "    \n",
    "    direction = [(0, 1), (1, 0), (0, -1), (-1, 0)] \n",
    "    \n",
    "    direction_index = 0\n",
    "    row = 0\n",
    "    col = 0\n",
    "\n",
    "    for i in range(n * n):\n",
    "        square[row][col] = num_now                   \n",
    "        num_now -= 1\n",
    "\n",
    "        row_new = row + direction[direction_index][0] \n",
    "        col_new = col + direction[direction_index][1]     \n",
    "\n",
    "        if 0 <= row_new < n and 0 <= col_new < n and square[row_new][col_new] == 0:\n",
    "            row = row_new       \n",
    "            col = col_new\n",
    "        \n",
    "        else:\n",
    "            direction_index = (direction_index + 1) % 4\n",
    "            \n",
    "            row += direction[direction_index][0]\n",
    "            col += direction[direction_index][1]\n",
    "\n",
    "    for row in square:\n",
    "        print(\" \".join(str(num_now).zfill(2) for num_now in row))  \n",
    "\n",
    "\n",
    "n = 7\n",
    "number_spiral(n)"
   ]
  },
  {
   "cell_type": "code",
   "execution_count": null,
   "id": "f19770e8-7d54-4013-8f8e-e61e1347804b",
   "metadata": {},
   "outputs": [],
   "source": []
  }
 ],
 "metadata": {
  "kernelspec": {
   "display_name": "Python 3 (ipykernel)",
   "language": "python",
   "name": "python3"
  },
  "language_info": {
   "codemirror_mode": {
    "name": "ipython",
    "version": 3
   },
   "file_extension": ".py",
   "mimetype": "text/x-python",
   "name": "python",
   "nbconvert_exporter": "python",
   "pygments_lexer": "ipython3",
   "version": "3.9.7"
  }
 },
 "nbformat": 4,
 "nbformat_minor": 5
}
